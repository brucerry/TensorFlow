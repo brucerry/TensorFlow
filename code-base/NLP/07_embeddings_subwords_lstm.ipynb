{
 "cells": [
  {
   "attachments": {},
   "cell_type": "markdown",
   "metadata": {},
   "source": [
    "## Tips to tweak\n",
    "\n",
    "- Data and preprocessing-based approaches\n",
    "  - More data\n",
    "  - Adjusting vocabulary size (make sure to consider the overall size of the corpus!)\n",
    "  - Adjusting sequence length (more or less padding or truncation)\n",
    "  - Whether to pad or truncate `pre` or `post` (usually less of an effect than the others)\n",
    "- Model-based approaches\n",
    "  - Adjust the number of embedding dimensions\n",
    "  - Changing use of `Flatten` vs. `GlobalAveragePooling1D` (often better)\n",
    "  - Considering other layers like Dropout\n",
    "  - Adjusting the number of nodes in intermediate fully-connected layers"
   ]
  },
  {
   "attachments": {},
   "cell_type": "markdown",
   "metadata": {},
   "source": [
    "## Import"
   ]
  },
  {
   "cell_type": "code",
   "execution_count": null,
   "metadata": {},
   "outputs": [],
   "source": [
    "import tensorflow as tf\n",
    "import tensorflow_datasets as tfds\n",
    "import numpy as np\n",
    "import pandas as pd\n",
    "import io\n",
    "import matplotlib.pyplot as plt\n",
    "\n",
    "from tensorflow.keras.preprocessing.text import Tokenizer\n",
    "from tensorflow.keras.preprocessing.sequence import pad_sequences"
   ]
  },
  {
   "attachments": {},
   "cell_type": "markdown",
   "metadata": {},
   "source": [
    "## Functions"
   ]
  },
  {
   "cell_type": "code",
   "execution_count": null,
   "metadata": {},
   "outputs": [],
   "source": [
    "def plot_graphs(title, history, string):\n",
    "  plt.title(title)\n",
    "  plt.plot(history.history[string])\n",
    "  plt.plot(history.history['val_'+string])\n",
    "  plt.xlabel(\"Epochs\")\n",
    "  plt.ylabel(string)\n",
    "  plt.legend([string, 'val_'+string])\n",
    "  plt.show()\n",
    "\n",
    "def predict_review(model, new_sentences, tokenizer, maxlen=100, show_padded_sequence=False, trunc_type='post', padding_type='post'):\n",
    "  # Keep the original sentences so that we can keep using them later\n",
    "  # Create an array to hold the encoded sequences\n",
    "  new_sequences = []\n",
    "\n",
    "  # Convert the new reviews to sequences\n",
    "  for i, frvw in enumerate(new_sentences):\n",
    "    new_sequences.append(tokenizer.encode(frvw))\n",
    "\n",
    "  # Pad all sequences for the new reviews\n",
    "  new_reviews_padded = pad_sequences(new_sequences, maxlen=maxlen, padding=padding_type, truncating=trunc_type)\n",
    "\n",
    "  classes = model.predict(new_reviews_padded)\n",
    "\n",
    "  # The closer the class is to 1, the more positive the review is\n",
    "  for x in range(len(new_sentences)):\n",
    "    \n",
    "    # We can see the padded sequence if desired\n",
    "    # Print the sequence\n",
    "    if (show_padded_sequence):\n",
    "      print(new_reviews_padded[x])\n",
    "\n",
    "    print(new_sentences[x], classes[x])\n",
    "\n",
    "def train_model(model, training_sequences, testing_sequences, training_labels, testing_labels, epochs=30):\n",
    "  model.compile(loss='binary_crossentropy', optimizer='adam', metrics=['accuracy'])\n",
    "  model.summary()\n",
    "  history = model.fit(training_sequences, training_labels, epochs=epochs, validation_data=(testing_sequences, testing_labels))\n",
    "  return history\n",
    "\n",
    "def plot_results(title, history):\n",
    "  plot_graphs(title, history, \"accuracy\")\n",
    "  plot_graphs(title, history, \"loss\")\n",
    "\n",
    "def export_files(string, model, vocab_size, tokenizer):\n",
    "  # First get the weights of the embedding layer\n",
    "  e = model.layers[0]\n",
    "  weights = e.get_weights()[0]\n",
    "  print(weights.shape) # shape: (vocab_size, embedding_dim)\n",
    "\n",
    "  # Write out the embedding vectors and metadata\n",
    "  out_v = io.open(string+'_vecs.tsv', 'w', encoding='utf-8')\n",
    "  out_m = io.open(string+'_meta.tsv', 'w', encoding='utf-8')\n",
    "  for word_num in range(0, vocab_size - 1):\n",
    "    word = tokenizer.decode([word_num])\n",
    "    embeddings = weights[word_num]\n",
    "    out_m.write(word + \"\\n\")\n",
    "    out_v.write('\\t'.join([str(x) for x in embeddings]) + \"\\n\")\n",
    "  out_v.close()\n",
    "  out_m.close()\n",
    "\n",
    "  # Download the files\n",
    "  try:\n",
    "    from google.colab import files\n",
    "  except ImportError:\n",
    "    print(\"ImportError\")\n",
    "    pass\n",
    "  else:\n",
    "    files.download('vecs.tsv')\n",
    "    files.download('meta.tsv')\n",
    "    print(\"Downloaded\")"
   ]
  },
  {
   "attachments": {},
   "cell_type": "markdown",
   "metadata": {},
   "source": [
    "## Tokenize and Encode subwords\n",
    "\n",
    "Amazon and Yelp reviews, with their related sentiment (1 for positive, 0 for negative).\\\n",
    "https://www.kaggle.com/marklvl/sentiment-labelled-sentences-data-set\n",
    "\n",
    "downloaded: reviews_sentiment.csv"
   ]
  },
  {
   "cell_type": "code",
   "execution_count": null,
   "metadata": {},
   "outputs": [],
   "source": [
    "!wget --no-check-certificate -O /tmp/sentiment.csv https://drive.google.com/uc?id=13ySLC_ue6Umt9RJYSeM2t-V0kCv-4C-P"
   ]
  },
  {
   "cell_type": "code",
   "execution_count": null,
   "metadata": {},
   "outputs": [],
   "source": [
    "csv = 'C:/Users/bruce/Desktop/GitHub/TensorFlow/download/reviews_sentiment.csv'\n",
    "\n",
    "# extract\n",
    "dataset = pd.read_csv(csv)\n",
    "sentences = dataset['text'].tolist()\n",
    "labels = dataset['sentiment'].tolist()\n",
    "\n",
    "# create a subwords dataset with tokenizer\n",
    "vocab_size = 1000\n",
    "max_subword_length = 5\n",
    "tokenizer = tfds.deprecated.text.SubwordTextEncoder.build_from_corpus(sentences, vocab_size, max_subword_length=max_subword_length)\n",
    "\n",
    "# Check that the tokenizer works appropriately\n",
    "num = 5\n",
    "print(sentences[num])\n",
    "encoded = tokenizer.encode(sentences[num])\n",
    "print(encoded)\n",
    "# Separately print out each subword, decoded\n",
    "for i in encoded:\n",
    "  print(tokenizer.decode([i]))\n",
    "\n",
    "# Replace sentence data with encoded subwords\n",
    "# This is equivalent to `text_to_sequences` with the `Tokenizer`\n",
    "for i, sentence in enumerate(sentences):\n",
    "  sentences[i] = tokenizer.encode(sentence)\n",
    "# Check the sentences are appropriately replaced\n",
    "print(sentences[1])"
   ]
  },
  {
   "attachments": {},
   "cell_type": "markdown",
   "metadata": {},
   "source": [
    "## Padding and Split the data"
   ]
  },
  {
   "cell_type": "code",
   "execution_count": null,
   "metadata": {},
   "outputs": [],
   "source": [
    "# paras\n",
    "embedding_dim = 16\n",
    "max_length = 50 # 100\n",
    "trunc_type='post'\n",
    "padding_type='post'\n",
    "\n",
    "# Separate out the sentences and labels into training and test sets\n",
    "split_ratio = 0.8\n",
    "num_sentences = len(sentences)\n",
    "training_size = int(num_sentences * split_ratio)\n",
    "test_size = num_sentences - training_size\n",
    "print(\"number of sentences:\", num_sentences)\n",
    "print(\"number of trains:\", training_size)\n",
    "print(\"number of tests:\", test_size)\n",
    "\n",
    "# Pad all sentences\n",
    "sentences = pad_sequences(sentences, maxlen=max_length, padding=padding_type, truncating=trunc_type)\n",
    "\n",
    "# split\n",
    "training_sequences = sentences[:training_size]\n",
    "testing_sequences = sentences[training_size:]\n",
    "training_labels = labels[:training_size]\n",
    "testing_labels = labels[training_size:]\n",
    "\n",
    "# Make labels into numpy arrays for use with the network later\n",
    "training_labels = np.array(training_labels)\n",
    "testing_labels = np.array(testing_labels)"
   ]
  },
  {
   "attachments": {},
   "cell_type": "markdown",
   "metadata": {},
   "source": [
    "## Create Models"
   ]
  },
  {
   "cell_type": "code",
   "execution_count": null,
   "metadata": {},
   "outputs": [],
   "source": [
    "# Simple Embeddings\n",
    "model_simple = tf.keras.Sequential([\n",
    "    tf.keras.layers.Embedding(vocab_size, embedding_dim, input_length=max_length),\n",
    "    tf.keras.layers.GlobalAveragePooling1D(),\n",
    "    tf.keras.layers.Dense(6, activation='relu'),\n",
    "    tf.keras.layers.Dense(1, activation='sigmoid')\n",
    "])\n",
    "\n",
    "# Bidirectional LSTM\n",
    "model_bidi_lstm = tf.keras.Sequential([\n",
    "    tf.keras.layers.Embedding(vocab_size, embedding_dim, input_length=max_length),\n",
    "    tf.keras.layers.Bidirectional(tf.keras.layers.LSTM(embedding_dim)), \n",
    "    tf.keras.layers.Dense(6, activation='relu'), \n",
    "    tf.keras.layers.Dense(1, activation='sigmoid')\n",
    "])\n",
    "\n",
    "# Multiple Bidirectional LSTM\n",
    "model_multiple_bidi_lstm = tf.keras.Sequential([\n",
    "    tf.keras.layers.Embedding(vocab_size, embedding_dim, input_length=max_length),\n",
    "    tf.keras.layers.Bidirectional(tf.keras.layers.LSTM(embedding_dim, return_sequences=True)), \n",
    "    tf.keras.layers.Bidirectional(tf.keras.layers.LSTM(embedding_dim)),\n",
    "    tf.keras.layers.Dense(6, activation='relu'),\n",
    "    tf.keras.layers.Dense(1, activation='sigmoid')\n",
    "])\n"
   ]
  },
  {
   "attachments": {},
   "cell_type": "markdown",
   "metadata": {},
   "source": [
    "## Predict data"
   ]
  },
  {
   "cell_type": "code",
   "execution_count": null,
   "metadata": {},
   "outputs": [],
   "source": [
    "# Use the model to predict some reviews   \n",
    "new_reviews = [\"I love this phone\", \n",
    "                \"Everything was cold\",\n",
    "                \"Everything was hot exactly as I wanted\", \n",
    "                \"Everything was green\", \n",
    "                \"the host seated us immediately\",\n",
    "                \"they gave us free chocolate cake\", \n",
    "                \"we couldn't hear each other talk because of the shouting in the kitchen\",\n",
    "                \"lovely\",\n",
    "                \"dreadful\",\n",
    "                \"stay away\",\n",
    "                \"everything was hot exactly as I wanted\",\n",
    "                \"everything was not exactly as I wanted\",\n",
    "                \"they gave us free chocolate cake\",\n",
    "                \"I've never eaten anything so spicy in my life, my throat burned for hours\",\n",
    "                \"for a phone that is as expensive as this one I expect it to be much easier to use than this thing is\",\n",
    "                \"we left there very full for a low price so I'd say you just can't go wrong at this place\",\n",
    "                \"that place does not have quality meals and it isn't a good place to go for dinner\",\n",
    "              ]"
   ]
  },
  {
   "attachments": {},
   "cell_type": "markdown",
   "metadata": {},
   "source": [
    "## Train the models and Predict"
   ]
  },
  {
   "cell_type": "code",
   "execution_count": null,
   "metadata": {},
   "outputs": [],
   "source": [
    "history = train_model(model_simple, training_sequences, testing_sequences, training_labels, testing_labels)\n",
    "plot_results(\"Simple Embeddings\", history)\n",
    "predict_review(model_simple, new_reviews, tokenizer, maxlen=max_length)\n",
    "\n",
    "history = train_model(model_bidi_lstm, training_sequences, testing_sequences, training_labels, testing_labels)\n",
    "plot_results(\"Bi-LSTM\", history)\n",
    "predict_review(model_bidi_lstm, new_reviews, tokenizer, maxlen=max_length)\n",
    "\n",
    "history = train_model(model_multiple_bidi_lstm, training_sequences, testing_sequences, training_labels, testing_labels)\n",
    "plot_results(\"multi-Bi-LSTM\", history)\n",
    "predict_review(model_multiple_bidi_lstm, new_reviews, tokenizer, maxlen=max_length)"
   ]
  },
  {
   "attachments": {},
   "cell_type": "markdown",
   "metadata": {},
   "source": [
    "## Visualize the network\n",
    "\n",
    "Head to http://projector.tensorflow.org/ and load these files, then click the \"Sphereize\" checkbox.\\\n",
    "vectors (vecs.tsv)\\\n",
    "metadata (meta.tsv)"
   ]
  },
  {
   "cell_type": "code",
   "execution_count": null,
   "metadata": {},
   "outputs": [],
   "source": [
    "export_files(\"simple_embed\", model_simple, vocab_size=vocab_size, tokenizer=tokenizer)\n",
    "export_files(\"bidi_lstm\", model_bidi_lstm, vocab_size=vocab_size, tokenizer=tokenizer)\n",
    "export_files(\"multi_bidi_lstm\", model_multiple_bidi_lstm, vocab_size=vocab_size, tokenizer=tokenizer)"
   ]
  }
 ],
 "metadata": {
  "kernelspec": {
   "display_name": "Python 3",
   "language": "python",
   "name": "python3"
  },
  "language_info": {
   "codemirror_mode": {
    "name": "ipython",
    "version": 3
   },
   "file_extension": ".py",
   "mimetype": "text/x-python",
   "name": "python",
   "nbconvert_exporter": "python",
   "pygments_lexer": "ipython3",
   "version": "3.10.1"
  },
  "orig_nbformat": 4
 },
 "nbformat": 4,
 "nbformat_minor": 2
}
