{
 "cells": [
  {
   "attachments": {},
   "cell_type": "markdown",
   "metadata": {},
   "source": [
    "## Import"
   ]
  },
  {
   "cell_type": "code",
   "execution_count": 28,
   "metadata": {},
   "outputs": [],
   "source": [
    "import tensorflow as tf\n",
    "\n",
    "import numpy as np\n",
    "import pandas as pd\n",
    "import os\n",
    "import io\n",
    "\n",
    "# Split data\n",
    "from sklearn.model_selection import train_test_split"
   ]
  },
  {
   "attachments": {},
   "cell_type": "markdown",
   "metadata": {},
   "source": [
    "## Functions"
   ]
  },
  {
   "cell_type": "code",
   "execution_count": 2,
   "metadata": {},
   "outputs": [],
   "source": [
    "# Function to evaluate: accuracy, precision, recall, f1-score\n",
    "from sklearn.metrics import accuracy_score, precision_recall_fscore_support\n",
    "\n",
    "def calculate_results(y_true, y_pred):\n",
    "  \"\"\"\n",
    "  Calculates model accuracy, precision, recall and f1 score of a binary classification model.\n",
    "\n",
    "  Args:\n",
    "      y_true: true labels in the form of a 1D array\n",
    "      y_pred: predicted labels in the form of a 1D array\n",
    "\n",
    "  Returns a dictionary of accuracy, precision, recall, f1-score.\n",
    "  \"\"\"\n",
    "  # Calculate model accuracy\n",
    "  model_accuracy = accuracy_score(y_true, y_pred) * 100\n",
    "  # Calculate model precision, recall and f1 score using \"weighted average\n",
    "  model_precision, model_recall, model_f1, _ = precision_recall_fscore_support(y_true, y_pred, average=\"weighted\")\n",
    "  model_results = {\"accuracy\": model_accuracy,\n",
    "                  \"precision\": model_precision,\n",
    "                  \"recall\": model_recall,\n",
    "                  \"f1\": model_f1}\n",
    "  return model_results"
   ]
  },
  {
   "cell_type": "code",
   "execution_count": 3,
   "metadata": {},
   "outputs": [],
   "source": [
    "import matplotlib.pyplot as plt\n",
    "\n",
    "def plot_loss_curves(history):\n",
    "  \"\"\"\n",
    "  Returns separate loss curves for training and validation metrics.\n",
    "\n",
    "  Args:\n",
    "    history: TensorFlow model History object (see: https://www.tensorflow.org/api_docs/python/tf/keras/callbacks/History)\n",
    "  \"\"\" \n",
    "  loss = history.history['loss']\n",
    "  val_loss = history.history['val_loss']\n",
    "\n",
    "  accuracy = history.history['accuracy']\n",
    "  val_accuracy = history.history['val_accuracy']\n",
    "\n",
    "  epochs = range(len(history.history['loss']))\n",
    "\n",
    "  # Plot loss\n",
    "  plt.plot(epochs, loss, label='training_loss')\n",
    "  plt.plot(epochs, val_loss, label='val_loss')\n",
    "  plt.title('Loss')\n",
    "  plt.xlabel('Epochs')\n",
    "  plt.legend()\n",
    "\n",
    "  # Plot accuracy\n",
    "  plt.figure()\n",
    "  plt.plot(epochs, accuracy, label='training_accuracy')\n",
    "  plt.plot(epochs, val_accuracy, label='val_accuracy')\n",
    "  plt.title('Accuracy')\n",
    "  plt.xlabel('Epochs')\n",
    "  plt.legend()"
   ]
  },
  {
   "attachments": {},
   "cell_type": "markdown",
   "metadata": {},
   "source": [
    "## Download the Kaggle NLP-Getting-Started Dataset\n",
    "\n",
    "The text samples of Tweets labelled as disaster or not disaster"
   ]
  },
  {
   "cell_type": "code",
   "execution_count": 4,
   "metadata": {},
   "outputs": [
    {
     "data": {
      "text/plain": [
       "'C:\\\\Users\\\\bruce\\\\.keras\\\\datasets\\\\nlp_getting_started.zip'"
      ]
     },
     "execution_count": 4,
     "metadata": {},
     "output_type": "execute_result"
    }
   ],
   "source": [
    "url = 'https://storage.googleapis.com/ztm_tf_course/nlp_getting_started.zip'\n",
    "\n",
    "zip_dir = tf.keras.utils.get_file(origin=url, extract=True)\n",
    "zip_dir"
   ]
  },
  {
   "cell_type": "code",
   "execution_count": 18,
   "metadata": {},
   "outputs": [
    {
     "name": "stdout",
     "output_type": "stream",
     "text": [
      "There are 4342 sentences labelled as 0 in Training dataset\n",
      "There are 3271 sentences labelled as 1 in Training dataset\n",
      "---\n",
      "Number of Training data: 6090\n",
      "Number of Validation data: 1523\n",
      "Number of Testing data: 3263\n"
     ]
    }
   ],
   "source": [
    "base_dir = os.path.dirname(zip_dir)\n",
    "train_csv = os.path.join(base_dir, 'train.csv')\n",
    "test_csv = os.path.join(base_dir, 'test.csv')\n",
    "\n",
    "train_df = pd.read_csv(train_csv)\n",
    "test_df = pd.read_csv(test_csv)\n",
    "\n",
    "for label, count in enumerate(train_df.target.value_counts()):\n",
    "    print(f'There are {count} sentences labelled as {label} in Training dataset')\n",
    "\n",
    "# Shuffle training dataframe\n",
    "train_df_shuffled = train_df.sample(frac=1, random_state=42) # frac = % of the data\n",
    "\n",
    "# Split 80% Training data and 20% Validation data\n",
    "train_sentences, val_sentences, train_labels, val_labels = train_test_split(\n",
    "    train_df_shuffled['text'].to_numpy(),\n",
    "    train_df_shuffled['target'].to_numpy(),\n",
    "    train_size=0.8,\n",
    "    random_state=42\n",
    ")\n",
    "\n",
    "print('---')\n",
    "print('Number of Training data:', len(train_sentences))\n",
    "print('Number of Validation data:', len(val_sentences))\n",
    "print('Number of Testing data:', len(test_df))"
   ]
  },
  {
   "attachments": {},
   "cell_type": "markdown",
   "metadata": {},
   "source": [
    "## Tokenization/Vectorization"
   ]
  },
  {
   "cell_type": "code",
   "execution_count": 6,
   "metadata": {},
   "outputs": [
    {
     "name": "stdout",
     "output_type": "stream",
     "text": [
      "The most common 5 words are: [['', '[UNK]', 'the', 'a', 'in']]\n",
      "The least common 5 words are: [['minded', 'mindblowing', 'milne', 'milledgeville', 'millcityio']]\n"
     ]
    }
   ],
   "source": [
    "# Average number of tokens (words) in the training tweets\n",
    "max_len = round(sum([len(i.split()) for i in train_sentences]) / len(train_sentences))\n",
    "\n",
    "max_vocab_len = 10000\n",
    "\n",
    "text_vectorizer = tf.keras.layers.TextVectorization(\n",
    "    max_tokens=max_vocab_len, # bounded the number of most occurrences of words (auto add <OOV>)\n",
    "    standardize='lower_and_strip_punctuation',\n",
    "    split='whitespace',\n",
    "    ngrams=None, # groups of n-words\n",
    "    output_mode='int', # how to map tokens to numbers\n",
    "    output_sequence_length=max_len, # how long the sequences to be\n",
    "    pad_to_max_tokens=True\n",
    ")\n",
    "\n",
    "# Fit the text vectorizer to the training text\n",
    "text_vectorizer.adapt(train_sentences)\n",
    "\n",
    "# Get all the unique words in our training data\n",
    "words_in_vocab = text_vectorizer.get_vocabulary()\n",
    "print(f'The most common 5 words are: {[words_in_vocab[:5]]}')\n",
    "print(f'The least common 5 words are: {[words_in_vocab[-5:]]}')"
   ]
  },
  {
   "attachments": {},
   "cell_type": "markdown",
   "metadata": {},
   "source": [
    "## Build a simple Embedding model"
   ]
  },
  {
   "cell_type": "code",
   "execution_count": 31,
   "metadata": {},
   "outputs": [
    {
     "name": "stdout",
     "output_type": "stream",
     "text": [
      "Epoch 1/5\n",
      "191/191 [==============================] - 2s 9ms/step - loss: 0.6231 - accuracy: 0.6750 - val_loss: 0.5497 - val_accuracy: 0.7511\n",
      "Epoch 2/5\n",
      "191/191 [==============================] - 2s 8ms/step - loss: 0.4553 - accuracy: 0.8176 - val_loss: 0.4783 - val_accuracy: 0.7833\n",
      "Epoch 3/5\n",
      "191/191 [==============================] - 2s 8ms/step - loss: 0.3547 - accuracy: 0.8591 - val_loss: 0.4610 - val_accuracy: 0.7899\n",
      "Epoch 4/5\n",
      "191/191 [==============================] - 2s 10ms/step - loss: 0.2881 - accuracy: 0.8898 - val_loss: 0.4683 - val_accuracy: 0.7945\n",
      "Epoch 5/5\n",
      "191/191 [==============================] - 2s 11ms/step - loss: 0.2389 - accuracy: 0.9112 - val_loss: 0.4768 - val_accuracy: 0.7945\n"
     ]
    }
   ],
   "source": [
    "embedding = tf.keras.layers.Embedding(\n",
    "    input_dim=max_vocab_len, # input shape\n",
    "    output_dim=128, # output shape, means each token gets represented by a vector 128 long\n",
    "    input_length=max_len, # how long is each input\n",
    "    name='embedding_layer'\n",
    ")\n",
    "\n",
    "input_layer = tf.keras.layers.Input(shape=(1,), dtype=tf.string)\n",
    "x = text_vectorizer(input_layer)\n",
    "x = embedding(x)\n",
    "x = tf.keras.layers.GlobalAveragePooling1D()(x)\n",
    "output_layer = tf.keras.layers.Dense(1, activation='sigmoid')(x)\n",
    "\n",
    "model = tf.keras.Model(input_layer, output_layer)\n",
    "\n",
    "model.compile(\n",
    "    optimizer=tf.keras.optimizers.Adam(),\n",
    "    loss=tf.keras.losses.BinaryCrossentropy(),\n",
    "    metrics=['accuracy']\n",
    ")\n",
    "\n",
    "model_history = model.fit(\n",
    "    train_sentences,\n",
    "    train_labels,\n",
    "    epochs=5,\n",
    "    validation_data=(val_sentences, val_labels)\n",
    ")"
   ]
  },
  {
   "cell_type": "code",
   "execution_count": 32,
   "metadata": {},
   "outputs": [
    {
     "data": {
      "image/png": "[encoded data removed]",
      "text/plain": [
       "<Figure size 640x480 with 1 Axes>"
      ]
     },
     "metadata": {},
     "output_type": "display_data"
    },
    {
     "data": {
      "image/png": "[encoded data removed]",
      "text/plain": [
       "<Figure size 640x480 with 1 Axes>"
      ]
     },
     "metadata": {},
     "output_type": "display_data"
    }
   ],
   "source": [
    "plot_loss_curves(model_history)"
   ]
  },
  {
   "attachments": {},
   "cell_type": "markdown",
   "metadata": {},
   "source": [
    "## Evaluate the mode"
   ]
  },
  {
   "cell_type": "code",
   "execution_count": 33,
   "metadata": {},
   "outputs": [
    {
     "name": "stdout",
     "output_type": "stream",
     "text": [
      "48/48 [==============================] - 0s 6ms/step - loss: 0.4768 - accuracy: 0.7945\n",
      "loss: 0.4767993391\n",
      "accuracy: 0.7944845557\n"
     ]
    }
   ],
   "source": [
    "eval = model.evaluate(val_sentences, val_labels, verbose=1)\n",
    "\n",
    "for name, value in zip(model.metrics_names, eval):\n",
    "  print(\"%s: %.10f\" % (name, value))"
   ]
  },
  {
   "attachments": {},
   "cell_type": "markdown",
   "metadata": {},
   "source": [
    "## Predictions"
   ]
  },
  {
   "cell_type": "code",
   "execution_count": 34,
   "metadata": {},
   "outputs": [
    {
     "name": "stdout",
     "output_type": "stream",
     "text": [
      "48/48 [==============================] - 0s 4ms/step\n"
     ]
    },
    {
     "data": {
      "text/plain": [
       "<tf.Tensor: shape=(1523,), dtype=float32, numpy=array([0., 1., 1., ..., 0., 1., 1.], dtype=float32)>"
      ]
     },
     "execution_count": 34,
     "metadata": {},
     "output_type": "execute_result"
    }
   ],
   "source": [
    "pred_probs = model.predict(val_sentences)\n",
    "preds = tf.squeeze(tf.round(pred_probs))\n",
    "preds"
   ]
  },
  {
   "cell_type": "code",
   "execution_count": 35,
   "metadata": {},
   "outputs": [
    {
     "data": {
      "text/plain": [
       "{'accuracy': 79.44845699277742,\n",
       " 'precision': 0.7976865675218427,\n",
       " 'recall': 0.7944845699277742,\n",
       " 'f1': 0.791132070410713}"
      ]
     },
     "execution_count": 35,
     "metadata": {},
     "output_type": "execute_result"
    }
   ],
   "source": [
    "results = calculate_results(val_labels, preds)\n",
    "results"
   ]
  },
  {
   "attachments": {},
   "cell_type": "markdown",
   "metadata": {},
   "source": [
    "## Visualize the network\n",
    "\n",
    "Head to http://projector.tensorflow.org/ and load these files, then click the \"Sphereize\" checkbox.\\\n",
    "vectors (vecs.tsv)\\\n",
    "metadata (meta.tsv)"
   ]
  },
  {
   "cell_type": "code",
   "execution_count": 36,
   "metadata": {},
   "outputs": [
    {
     "name": "stdout",
     "output_type": "stream",
     "text": [
      "(10000, 128)\n"
     ]
    }
   ],
   "source": [
    "# First get the weights of the embedding layer\n",
    "weights = model.get_layer('embedding_layer').get_weights()[0]\n",
    "print(weights.shape) # shape: (vocab_size, embedding_dim)"
   ]
  },
  {
   "cell_type": "code",
   "execution_count": 37,
   "metadata": {},
   "outputs": [],
   "source": [
    "# Write out the embedding vectors and metadata\n",
    "out_v = io.open('vecs.tsv', 'w', encoding='utf-8')\n",
    "out_m = io.open('meta.tsv', 'w', encoding='utf-8')\n",
    "for i, word in enumerate(words_in_vocab):\n",
    "  if i == 0:\n",
    "    continue # skip 0, it's padding\n",
    "  vec = weights[i]\n",
    "  out_m.write(word + \"\\n\")\n",
    "  out_v.write('\\t'.join([str(x) for x in vec]) + \"\\n\")\n",
    "out_v.close()\n",
    "out_m.close()"
   ]
  }
 ],
 "metadata": {
  "kernelspec": {
   "display_name": "Python 3",
   "language": "python",
   "name": "python3"
  },
  "language_info": {
   "codemirror_mode": {
    "name": "ipython",
    "version": 3
   },
   "file_extension": ".py",
   "mimetype": "text/x-python",
   "name": "python",
   "nbconvert_exporter": "python",
   "pygments_lexer": "ipython3",
   "version": "3.10.1"
  },
  "orig_nbformat": 4
 },
 "nbformat": 4,
 "nbformat_minor": 2
}
