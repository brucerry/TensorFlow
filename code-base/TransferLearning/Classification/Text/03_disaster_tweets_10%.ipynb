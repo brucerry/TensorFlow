{
 "cells": [
  {
   "attachments": {},
   "cell_type": "markdown",
   "metadata": {},
   "source": [
    "## Import"
   ]
  },
  {
   "cell_type": "code",
   "execution_count": 1,
   "metadata": {},
   "outputs": [],
   "source": [
    "import tensorflow as tf\n",
    "import tensorflow_hub as hub\n",
    "\n",
    "import numpy as np\n",
    "import pandas as pd\n",
    "import os\n",
    "import io\n",
    "\n",
    "# Split data\n",
    "from sklearn.model_selection import train_test_split"
   ]
  },
  {
   "attachments": {},
   "cell_type": "markdown",
   "metadata": {},
   "source": [
    "## Functions"
   ]
  },
  {
   "cell_type": "code",
   "execution_count": 2,
   "metadata": {},
   "outputs": [],
   "source": [
    "# Function to evaluate: accuracy, precision, recall, f1-score\n",
    "from sklearn.metrics import accuracy_score, precision_recall_fscore_support\n",
    "\n",
    "def calculate_results(y_true, y_pred):\n",
    "  \"\"\"\n",
    "  Calculates model accuracy, precision, recall and f1 score of a binary classification model.\n",
    "\n",
    "  Args:\n",
    "      y_true: true labels in the form of a 1D array\n",
    "      y_pred: predicted labels in the form of a 1D array\n",
    "\n",
    "  Returns a dictionary of accuracy, precision, recall, f1-score.\n",
    "  \"\"\"\n",
    "  # Calculate model accuracy\n",
    "  model_accuracy = accuracy_score(y_true, y_pred) * 100\n",
    "  # Calculate model precision, recall and f1 score using \"weighted average\n",
    "  model_precision, model_recall, model_f1, _ = precision_recall_fscore_support(y_true, y_pred, average=\"weighted\")\n",
    "  model_results = {\"accuracy\": model_accuracy,\n",
    "                  \"precision\": model_precision,\n",
    "                  \"recall\": model_recall,\n",
    "                  \"f1\": model_f1}\n",
    "  return model_results"
   ]
  },
  {
   "cell_type": "code",
   "execution_count": 3,
   "metadata": {},
   "outputs": [],
   "source": [
    "import matplotlib.pyplot as plt\n",
    "\n",
    "def plot_loss_curves(history):\n",
    "  \"\"\"\n",
    "  Returns separate loss curves for training and validation metrics.\n",
    "\n",
    "  Args:\n",
    "    history: TensorFlow model History object (see: https://www.tensorflow.org/api_docs/python/tf/keras/callbacks/History)\n",
    "  \"\"\" \n",
    "  loss = history.history['loss']\n",
    "  val_loss = history.history['val_loss']\n",
    "\n",
    "  accuracy = history.history['accuracy']\n",
    "  val_accuracy = history.history['val_accuracy']\n",
    "\n",
    "  epochs = range(len(history.history['loss']))\n",
    "\n",
    "  # Plot loss\n",
    "  plt.plot(epochs, loss, label='training_loss')\n",
    "  plt.plot(epochs, val_loss, label='val_loss')\n",
    "  plt.title('Loss')\n",
    "  plt.xlabel('Epochs')\n",
    "  plt.legend()\n",
    "\n",
    "  # Plot accuracy\n",
    "  plt.figure()\n",
    "  plt.plot(epochs, accuracy, label='training_accuracy')\n",
    "  plt.plot(epochs, val_accuracy, label='val_accuracy')\n",
    "  plt.title('Accuracy')\n",
    "  plt.xlabel('Epochs')\n",
    "  plt.legend()"
   ]
  },
  {
   "attachments": {},
   "cell_type": "markdown",
   "metadata": {},
   "source": [
    "## Download the Kaggle NLP-Getting-Started Dataset\n",
    "\n",
    "The text samples of Tweets labelled as disaster or not disaster"
   ]
  },
  {
   "cell_type": "code",
   "execution_count": 4,
   "metadata": {},
   "outputs": [
    {
     "data": {
      "text/plain": [
       "'C:\\\\Users\\\\bruce\\\\.keras\\\\datasets\\\\nlp_getting_started.zip'"
      ]
     },
     "execution_count": 4,
     "metadata": {},
     "output_type": "execute_result"
    }
   ],
   "source": [
    "url = 'https://storage.googleapis.com/ztm_tf_course/nlp_getting_started.zip'\n",
    "\n",
    "zip_dir = tf.keras.utils.get_file(origin=url, extract=True)\n",
    "zip_dir"
   ]
  },
  {
   "cell_type": "code",
   "execution_count": 5,
   "metadata": {},
   "outputs": [
    {
     "name": "stdout",
     "output_type": "stream",
     "text": [
      "There are 4342 sentences labelled as 0 in Training dataset\n",
      "There are 3271 sentences labelled as 1 in Training dataset\n",
      "---\n",
      "Number of Training data: 6090\n",
      "Number of Validation data: 1523\n",
      "Number of Testing data: 3263\n"
     ]
    }
   ],
   "source": [
    "base_dir = os.path.dirname(zip_dir)\n",
    "train_csv = os.path.join(base_dir, 'train.csv')\n",
    "test_csv = os.path.join(base_dir, 'test.csv')\n",
    "\n",
    "train_df = pd.read_csv(train_csv)\n",
    "test_df = pd.read_csv(test_csv)\n",
    "\n",
    "for label, count in enumerate(train_df.target.value_counts()):\n",
    "    print(f'There are {count} sentences labelled as {label} in Training dataset')\n",
    "\n",
    "# Shuffle training dataframe\n",
    "train_df_shuffled = train_df.sample(frac=1, random_state=42) # frac=1 -> 100% of the data\n",
    "\n",
    "# Split 80% Training data and 20% Validation data\n",
    "train_sentences, val_sentences, train_labels, val_labels = train_test_split(\n",
    "    train_df_shuffled['text'].to_numpy(),\n",
    "    train_df_shuffled['target'].to_numpy(),\n",
    "    train_size=0.8,\n",
    "    random_state=42\n",
    ")\n",
    "\n",
    "print('---')\n",
    "print('Number of Training data:', len(train_sentences))\n",
    "print('Number of Validation data:', len(val_sentences))\n",
    "print('Number of Testing data:', len(test_df))"
   ]
  },
  {
   "attachments": {},
   "cell_type": "markdown",
   "metadata": {},
   "source": [
    "## Use 10% of the training data"
   ]
  },
  {
   "cell_type": "code",
   "execution_count": 15,
   "metadata": {},
   "outputs": [],
   "source": [
    "train_10_percent = train_df_shuffled[['text', 'target']].sample(frac=0.1, random_state=42)\n",
    "train_10_percent_sentences = train_10_percent['text']\n",
    "train_10_percent_labels = train_10_percent['target']\n",
    "\n",
    "# split = int(0.1 * len(train_sentences))\n",
    "# train_10_percent_sentences = train_sentences[:split]\n",
    "# train_10_percent_labels = train_labels[:split]"
   ]
  },
  {
   "attachments": {},
   "cell_type": "markdown",
   "metadata": {},
   "source": [
    "## Tokenization/Vectorization"
   ]
  },
  {
   "cell_type": "code",
   "execution_count": 16,
   "metadata": {},
   "outputs": [
    {
     "name": "stdout",
     "output_type": "stream",
     "text": [
      "The most common 5 words are: [['', '[UNK]', 'the', 'of', 'in']]\n",
      "The least common 5 words are: [['045', '0308', '012624', '0104', '0011']]\n"
     ]
    }
   ],
   "source": [
    "# Average number of tokens (words) in the training tweets\n",
    "max_len = round(sum([len(i.split()) for i in train_10_percent_sentences]) / len(train_10_percent_sentences))\n",
    "\n",
    "max_vocab_len = 10000\n",
    "\n",
    "text_vectorizer = tf.keras.layers.TextVectorization(\n",
    "    max_tokens=max_vocab_len, # bounded the number of most occurrences of words (auto add <OOV>)\n",
    "    standardize='lower_and_strip_punctuation',\n",
    "    split='whitespace',\n",
    "    ngrams=None, # groups of n-words\n",
    "    output_mode='int', # how to map tokens to numbers\n",
    "    output_sequence_length=max_len, # how long the sequences to be\n",
    "    pad_to_max_tokens=True\n",
    ")\n",
    "\n",
    "# Fit the text vectorizer to the training text\n",
    "text_vectorizer.adapt(train_10_percent_sentences)\n",
    "\n",
    "# Get all the unique words in our training data\n",
    "words_in_vocab = text_vectorizer.get_vocabulary()\n",
    "count = 5\n",
    "print(f'The most common {count} words are: {words_in_vocab[:count]}')\n",
    "print(f'The least common {count} words are: {words_in_vocab[-count:]}')"
   ]
  },
  {
   "attachments": {},
   "cell_type": "markdown",
   "metadata": {},
   "source": [
    "## Build a Transfer Learning model\n",
    "\n",
    "universal-sentence-encoder - https://tfhub.dev/google/universal-sentence-encoder/4\n",
    "* The input is variable length English text and the output is a **512** dimensional vector"
   ]
  },
  {
   "cell_type": "code",
   "execution_count": 8,
   "metadata": {},
   "outputs": [
    {
     "name": "stdout",
     "output_type": "stream",
     "text": [
      "WARNING:tensorflow:Please fix your imports. Module tensorflow.python.training.tracking.data_structures has been moved to tensorflow.python.trackable.data_structures. The old module will be deleted in version 2.11.\n"
     ]
    }
   ],
   "source": [
    "url = 'https://tfhub.dev/google/universal-sentence-encoder/4' # model fit error: JIT compilation failed\n",
    "# url = 'https://tfhub.dev/google/nnlm-en-dim50/2'\n",
    "# url = 'https://tfhub.dev/google/nnlm-en-dim128/2'\n",
    "# url = 'https://tfhub.dev/google/nnlm-en-dim128-with-normalization/2' # OOM\n",
    "\n",
    "hub_layer = hub.KerasLayer(url, input_shape=[], dtype=tf.string, trainable=False)"
   ]
  },
  {
   "cell_type": "code",
   "execution_count": 17,
   "metadata": {},
   "outputs": [
    {
     "name": "stdout",
     "output_type": "stream",
     "text": [
      "Epoch 1/5\n",
      "20/20 [==============================] - 4s 117ms/step - loss: 0.6777 - accuracy: 0.6420 - val_loss: 0.6574 - val_accuracy: 0.7078\n",
      "Epoch 2/5\n",
      "20/20 [==============================] - 2s 81ms/step - loss: 0.6248 - accuracy: 0.8161 - val_loss: 0.6146 - val_accuracy: 0.7544\n",
      "Epoch 3/5\n",
      "20/20 [==============================] - 2s 81ms/step - loss: 0.5665 - accuracy: 0.8292 - val_loss: 0.5673 - val_accuracy: 0.7603\n",
      "Epoch 4/5\n",
      "20/20 [==============================] - 2s 80ms/step - loss: 0.5070 - accuracy: 0.8342 - val_loss: 0.5255 - val_accuracy: 0.7682\n",
      "Epoch 5/5\n",
      "20/20 [==============================] - 2s 79ms/step - loss: 0.4575 - accuracy: 0.8342 - val_loss: 0.5005 - val_accuracy: 0.7708\n"
     ]
    }
   ],
   "source": [
    "model = tf.keras.Sequential([\n",
    "    hub_layer,\n",
    "    tf.keras.layers.Dense(64, activation='relu'),\n",
    "    tf.keras.layers.Dense(1, activation='sigmoid')\n",
    "])\n",
    "\n",
    "model.compile(\n",
    "    optimizer=tf.keras.optimizers.Adam(),\n",
    "    loss=tf.keras.losses.BinaryCrossentropy(),\n",
    "    metrics=['accuracy']\n",
    ")\n",
    "\n",
    "with tf.device('/CPU:0'): # this line fix error\n",
    "    model_history = model.fit(\n",
    "        train_10_percent_sentences,\n",
    "        train_10_percent_labels,\n",
    "        epochs=5,\n",
    "        validation_data=(val_sentences, val_labels)\n",
    "    )"
   ]
  },
  {
   "cell_type": "code",
   "execution_count": 18,
   "metadata": {},
   "outputs": [
    {
     "data": {
      "image/png": "[encoded data removed]",
      "text/plain": [
       "<Figure size 640x480 with 1 Axes>"
      ]
     },
     "metadata": {},
     "output_type": "display_data"
    },
    {
     "data": {
      "image/png": "[encoded data removed]",
      "text/plain": [
       "<Figure size 640x480 with 1 Axes>"
      ]
     },
     "metadata": {},
     "output_type": "display_data"
    }
   ],
   "source": [
    "plot_loss_curves(model_history)"
   ]
  },
  {
   "attachments": {},
   "cell_type": "markdown",
   "metadata": {},
   "source": [
    "## Evaluate the mode"
   ]
  },
  {
   "cell_type": "code",
   "execution_count": 19,
   "metadata": {},
   "outputs": [
    {
     "name": "stdout",
     "output_type": "stream",
     "text": [
      "48/48 [==============================] - 1s 24ms/step - loss: 0.5005 - accuracy: 0.7708\n",
      "loss: 0.5004892945\n",
      "accuracy: 0.7708470225\n"
     ]
    }
   ],
   "source": [
    "with tf.device('/CPU:0'): # this line fix error\n",
    "  eval = model.evaluate(val_sentences, val_labels, verbose=1)\n",
    "\n",
    "for name, value in zip(model.metrics_names, eval):\n",
    "  print(\"%s: %.10f\" % (name, value))"
   ]
  },
  {
   "attachments": {},
   "cell_type": "markdown",
   "metadata": {},
   "source": [
    "## Predictions"
   ]
  },
  {
   "cell_type": "code",
   "execution_count": 20,
   "metadata": {},
   "outputs": [
    {
     "name": "stdout",
     "output_type": "stream",
     "text": [
      "48/48 [==============================] - 2s 22ms/step\n"
     ]
    },
    {
     "data": {
      "text/plain": [
       "<tf.Tensor: shape=(10,), dtype=float32, numpy=array([0., 1., 1., 0., 1., 1., 1., 1., 1., 0.], dtype=float32)>"
      ]
     },
     "execution_count": 20,
     "metadata": {},
     "output_type": "execute_result"
    }
   ],
   "source": [
    "with tf.device('/CPU:0'): # this line fix error\n",
    "    pred_probs = model.predict(val_sentences)\n",
    "preds = tf.squeeze(tf.round(pred_probs))\n",
    "preds[:10]"
   ]
  },
  {
   "cell_type": "code",
   "execution_count": 21,
   "metadata": {},
   "outputs": [
    {
     "data": {
      "text/plain": [
       "{'accuracy': 77.08470124753775,\n",
       " 'precision': 0.7704214046525145,\n",
       " 'recall': 0.7708470124753776,\n",
       " 'f1': 0.7705775146109555}"
      ]
     },
     "execution_count": 21,
     "metadata": {},
     "output_type": "execute_result"
    }
   ],
   "source": [
    "results = calculate_results(val_labels, preds)\n",
    "results"
   ]
  }
 ],
 "metadata": {
  "kernelspec": {
   "display_name": "Python 3",
   "language": "python",
   "name": "python3"
  },
  "language_info": {
   "codemirror_mode": {
    "name": "ipython",
    "version": 3
   },
   "file_extension": ".py",
   "mimetype": "text/x-python",
   "name": "python",
   "nbconvert_exporter": "python",
   "pygments_lexer": "ipython3",
   "version": "3.10.1"
  },
  "orig_nbformat": 4
 },
 "nbformat": 4,
 "nbformat_minor": 2
}
